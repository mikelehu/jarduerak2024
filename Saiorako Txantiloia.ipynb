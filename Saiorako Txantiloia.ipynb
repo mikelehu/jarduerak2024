{
 "cells": [
  {
   "cell_type": "markdown",
   "id": "e8da5679",
   "metadata": {},
   "source": [
    "### Saiorako instalazioak"
   ]
  },
  {
   "cell_type": "markdown",
   "id": "704e0387",
   "metadata": {},
   "source": [
    "git.config --global user.name \"******\"       # Your GitHub username\n",
    "git.config --global user.email \"*****\"       # Your email address\n",
    "git.config --list                            # Show configuration"
   ]
  },
  {
   "cell_type": "code",
   "execution_count": null,
   "id": "1dd75969",
   "metadata": {},
   "outputs": [],
   "source": [
    "export JULIA_NUM_THREADS=4"
   ]
  },
  {
   "cell_type": "code",
   "execution_count": null,
   "id": "e7a2f3dd",
   "metadata": {},
   "outputs": [],
   "source": [
    "using Pkg\n",
    "paketeak=[\"BenchmarkTools\", \"PkgTemplates\", \"Test\"]\n",
    "Pkg.add(paketeak)"
   ]
  },
  {
   "cell_type": "markdown",
   "id": "afd090b9",
   "metadata": {},
   "source": [
    "### Experiments\n",
    "\n",
    "\n",
    "\n",
    "1. Annotating types explicitly or not\n",
    "\n",
    "\n",
    "2. Compare a Julia language implementation with C language implementation\n",
    "\n",
    "   $$s=\\sum_{i=1}^{n} x_i$$\n",
    "\n",
    "3. Using threading in Julia\n",
    "\n"
   ]
  },
  {
   "cell_type": "markdown",
   "id": "8ae72911",
   "metadata": {},
   "source": [
    "#### Experiments 1"
   ]
  },
  {
   "cell_type": "markdown",
   "id": "35e0391f",
   "metadata": {},
   "source": [
    "#### Experiments 2"
   ]
  },
  {
   "cell_type": "code",
   "execution_count": 1,
   "id": "26c2054d",
   "metadata": {},
   "outputs": [
    {
     "data": {
      "text/plain": [
       "c_sum (generic function with 1 method)"
      ]
     },
     "execution_count": 1,
     "metadata": {},
     "output_type": "execute_result"
    }
   ],
   "source": [
    "# What this does: compile simple C sum function into a shared library by piping C code into gcc\n",
    "\n",
    "c_code = \"\"\"\n",
    "#include <stddef.h>\n",
    "double c_sum(size_t n, double *X) {\n",
    "    double s = 0.0;\n",
    "    for (size_t i = 0; i < n; ++i) {\n",
    "        s += X[i];\n",
    "    }\n",
    "    return s;\n",
    "}\n",
    "\"\"\";\n",
    "\n",
    "using Libdl\n",
    "Clib = tempname() * \".\" * Libdl.dlext\n",
    "\n",
    "open(`gcc -fPIC -O3 -msse3 -xc -shared -o $Clib -`, \"w\") do f\n",
    "    print(f, c_code)\n",
    "end\n",
    "\n",
    "\n",
    "# Readily call the function `c_sum` in the shared library\n",
    "\n",
    "c_sum(X::Array{Float64}) = @ccall Clib.c_sum(length(X)::Csize_t, X::Ptr{Float64})::Float64"
   ]
  },
  {
   "cell_type": "markdown",
   "id": "156136b4",
   "metadata": {},
   "source": [
    "#### Experiments 3"
   ]
  },
  {
   "cell_type": "code",
   "execution_count": null,
   "id": "e557c6fc",
   "metadata": {},
   "outputs": [],
   "source": []
  }
 ],
 "metadata": {
  "kernelspec": {
   "display_name": "Julia 1.10.5",
   "language": "julia",
   "name": "julia-1.10"
  },
  "language_info": {
   "file_extension": ".jl",
   "mimetype": "application/julia",
   "name": "julia",
   "version": "1.10.5"
  }
 },
 "nbformat": 4,
 "nbformat_minor": 5
}
